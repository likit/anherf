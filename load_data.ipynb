{
 "cells": [
  {
   "cell_type": "code",
   "execution_count": 1,
   "metadata": {},
   "outputs": [],
   "source": [
    "import pandas, sqlalchemy\n",
    "from datetime import datetime\n",
    "import pytz"
   ]
  },
  {
   "cell_type": "code",
   "execution_count": 2,
   "metadata": {},
   "outputs": [],
   "source": [
    "from sqlalchemy.ext.automap import automap_base\n",
    "from sqlalchemy import create_engine\n",
    "from sqlalchemy.orm import Session"
   ]
  },
  {
   "cell_type": "code",
   "execution_count": 3,
   "metadata": {},
   "outputs": [],
   "source": [
    "bnk = pytz.timezone('Asia/Bangkok')"
   ]
  },
  {
   "cell_type": "code",
   "execution_count": 4,
   "metadata": {},
   "outputs": [],
   "source": [
    "Base = automap_base()"
   ]
  },
  {
   "cell_type": "code",
   "execution_count": 5,
   "metadata": {},
   "outputs": [
    {
     "name": "stderr",
     "output_type": "stream",
     "text": [
      "/Users/likit/.virtualenvs/anherf/lib/python3.7/site-packages/psycopg2/__init__.py:144: UserWarning: The psycopg2 wheel package will be renamed from release 2.8; in order to keep installing from binary please use \"pip install psycopg2-binary\" instead. For details see: <http://initd.org/psycopg/docs/install.html#binary-install-from-pypi>.\n",
      "  \"\"\")\n"
     ]
    }
   ],
   "source": [
    "engine = create_engine('postgres+psycopg2://postgres@localhost:5436/anhperf_dev')"
   ]
  },
  {
   "cell_type": "code",
   "execution_count": 6,
   "metadata": {},
   "outputs": [],
   "source": [
    "Base.prepare(engine, reflect=True)"
   ]
  },
  {
   "cell_type": "code",
   "execution_count": 7,
   "metadata": {},
   "outputs": [
    {
     "data": {
      "text/plain": [
       "['alembic_version', 'roles', 'participants', 'registrations', 'checkins']"
      ]
     },
     "execution_count": 7,
     "metadata": {},
     "output_type": "execute_result"
    }
   ],
   "source": [
    "Base.classes.keys()"
   ]
  },
  {
   "cell_type": "code",
   "execution_count": 8,
   "metadata": {},
   "outputs": [],
   "source": [
    "session = Session(engine)"
   ]
  },
  {
   "cell_type": "code",
   "execution_count": 9,
   "metadata": {},
   "outputs": [],
   "source": [
    "Role = Base.classes['roles']"
   ]
  },
  {
   "cell_type": "code",
   "execution_count": 10,
   "metadata": {},
   "outputs": [],
   "source": [
    "Participant = Base.classes['participants']"
   ]
  },
  {
   "cell_type": "code",
   "execution_count": 11,
   "metadata": {},
   "outputs": [],
   "source": [
    "Registration = Base.classes['registrations']"
   ]
  },
  {
   "cell_type": "code",
   "execution_count": 12,
   "metadata": {},
   "outputs": [],
   "source": [
    "speaker_role = Role(desc='speaker')\n",
    "guest_role = Role(desc='guest')\n",
    "vip_role = Role(desc='vip')\n",
    "participant_role = Role(desc='participant')\n",
    "invitee_role = Role(desc='invitee')"
   ]
  },
  {
   "cell_type": "code",
   "execution_count": 13,
   "metadata": {},
   "outputs": [],
   "source": [
    "committee_role = Role(desc='committee')\n",
    "session.add(committee_role)"
   ]
  },
  {
   "cell_type": "code",
   "execution_count": 14,
   "metadata": {},
   "outputs": [],
   "source": [
    "session.add(Role(desc='rapporteur'))"
   ]
  },
  {
   "cell_type": "code",
   "execution_count": 15,
   "metadata": {},
   "outputs": [],
   "source": [
    "session.add(speaker_role)\n",
    "session.add(guest_role)\n",
    "session.add(vip_role)\n",
    "session.add(participant_role)\n",
    "session.add(invitee_role)\n",
    "session.commit()"
   ]
  },
  {
   "cell_type": "code",
   "execution_count": 103,
   "metadata": {},
   "outputs": [],
   "source": [
    "bnk = pytz.timezone('Asia/Bangkok')"
   ]
  },
  {
   "cell_type": "code",
   "execution_count": 104,
   "metadata": {},
   "outputs": [],
   "source": [
    "def add_new_participant(role, data):\n",
    "    for item in data.iterrows():\n",
    "        row = item[1]\n",
    "        if not pandas.isna(row['user_email']):\n",
    "            email = row['user_email'].strip().lower()\n",
    "            existing_participant = session.query(Participant).filter(Participant.email==email).first()\n",
    "            if existing_participant:\n",
    "                print(existing_participant.firstname)\n",
    "                continue\n",
    "        else:\n",
    "            email = ''\n",
    "        new_par = Participant(title=row['name_title'],\n",
    "                         firstname=row['first_name'],\n",
    "                         lastname=row['last_name'],\n",
    "                         email=email,\n",
    "                         faculty=row['faculty'],\n",
    "                         affil=row['university'],\n",
    "                         mobile=row['mobile'],\n",
    "                         delivery_address=row['delivery_address'],\n",
    "                         position_type=row['position_type'],\n",
    "                        )\n",
    "        new_par.roles = role # reflection automatically add s to the role attribute\n",
    "        registered_at = None if pandas.isna(row['user_registered']) else row['user_registered']\n",
    "        registered_at = bnk.localize(registered_at).astimezone(pytz.utc)\n",
    "        pay_status = not pandas.isna(row['paid_at'])\n",
    "        new_par.registrations_collection.append(Registration(\n",
    "                                                    registered_at=registered_at,\n",
    "                                                    pay_status=pay_status,\n",
    "                                                    payment_required=True)\n",
    "                                               )\n",
    "        session.add(new_par)\n",
    "    session.commit()"
   ]
  },
  {
   "cell_type": "code",
   "execution_count": 106,
   "metadata": {},
   "outputs": [],
   "source": [
    "def add_new_committee(role, data):\n",
    "    for item in data.iterrows():\n",
    "        row = item[1]\n",
    "        year = 2018\n",
    "        if not pandas.isna(row['user_email']):\n",
    "            email = row['user_email'].strip().lower()\n",
    "            existing_participant = session.query(Participant).filter(Participant.email==email).first()\n",
    "            if existing_participant:\n",
    "                print(existing_participant.firstname, existing_participant.lastname)\n",
    "                continue\n",
    "        else:\n",
    "            email = ''\n",
    "        new_par = Participant(title=row['name_title'],\n",
    "                         firstname=row['first_name'],\n",
    "                         lastname=row['last_name'],\n",
    "                         email=email,\n",
    "                         faculty=row['faculty'],\n",
    "                         affil=row['university'],\n",
    "                         mobile=row['mobile'],\n",
    "                         delivery_address=row['delivery_address'],\n",
    "                         position_type=row['position_type'])\n",
    "        new_par.roles = role\n",
    "        registered_at = None if pandas.isna(row['user_registered']) else row['user_registered']\n",
    "        if registered_at:\n",
    "            if not isinstance(registered_at, datetime):  # some datetime is not a datetime object\n",
    "                registered_at = datetime.strptime(registered_at, '%Y-%m-%d %H:%M:%S')\n",
    "            registered_at = bnk.localize(registered_at).astimezone(pytz.utc)\n",
    "        new_par.registrations_collection.append(Registration(registered_at=registered_at,\n",
    "                                                             pay_status=False,\n",
    "                                                             payment_required=False))\n",
    "        session.add(new_par)\n",
    "    session.commit()"
   ]
  },
  {
   "cell_type": "code",
   "execution_count": 95,
   "metadata": {},
   "outputs": [],
   "source": [
    "def add_new_invitee(role, data):\n",
    "    for idx,row in data.iterrows():\n",
    "        year = 2018\n",
    "        #regcode = '{}{:05}'.format(year, row['ID'])\n",
    "        if not pandas.isna(row['email']):\n",
    "            email = row['email'].strip().lower()\n",
    "            existing_participant = session.query(Participant).filter(Participant.email==email).first()\n",
    "            if existing_participant:\n",
    "                print(existing_participant.firstname, existing_participant.lastname)\n",
    "                continue\n",
    "        else:\n",
    "            email = ''\n",
    "        new_par = Participant(old_id=None,\n",
    "                        title=row['title'],\n",
    "                         firstname=row['firstname'],\n",
    "                         lastname=row['lastname'],\n",
    "                         email=email,\n",
    "                         faculty=row['faculty'],\n",
    "                         affil=row['affiliation'],\n",
    "                         mobile=row['tel'],\n",
    "                         delivery_address=row['address'],\n",
    "                         position_type=row['position']\n",
    "                        )\n",
    "        new_par.roles = role\n",
    "        registered_at = pytz.utc.localize(row['datetime']).astimezone(pytz.utc)\n",
    "        new_par.registrations_collection.append(Registration(registered_at=registered_at,\n",
    "                                                             pay_status=False,\n",
    "                                                             payment_required=False))\n",
    "        session.add(new_par)\n",
    "    session.commit()"
   ]
  },
  {
   "cell_type": "code",
   "execution_count": 107,
   "metadata": {},
   "outputs": [],
   "source": [
    "def add_new_rap(role, data):\n",
    "    for idx,row in data.iterrows():\n",
    "        year = 2018\n",
    "        if not pandas.isna(row['email']):\n",
    "            email = row['email'].strip().lower()\n",
    "            existing_participant = session.query(Participant).filter(Participant.email==email).first()\n",
    "            if existing_participant:\n",
    "                print(existing_participant.firstname, existing_participant.lastname)\n",
    "                continue\n",
    "        else:\n",
    "            email = ''\n",
    "        #regcode = '{}{:05}'.format(year, row['ID'])\n",
    "        new_par = Participant(old_id=None,\n",
    "                        title=row['title'],\n",
    "                         firstname=row['firstname'],\n",
    "                         lastname=row['lastname'],\n",
    "                         email=email,\n",
    "                         affil=row['university'],\n",
    "                         mobile=row['mobile'],\n",
    "                         position_type=row['position']\n",
    "                        )\n",
    "        new_par.roles = role\n",
    "        registered_at = bnk.localize(row['registered']).astimezone(pytz.utc)\n",
    "        new_par.registrations_collection.append(Registration(registered_at=registered_at,\n",
    "                                                             pay_status=False,\n",
    "                                                             payment_required=False))\n",
    "        session.add(new_par)\n",
    "    session.commit()"
   ]
  },
  {
   "cell_type": "code",
   "execution_count": 108,
   "metadata": {},
   "outputs": [],
   "source": [
    "def add_new_speakers(role, data):\n",
    "    for item in data.iterrows():\n",
    "        row = item[1]\n",
    "        year = 2018\n",
    "        if pandas.isna(row['user_email']):\n",
    "            email = row['user_email'].strip().lower()\n",
    "            existing_participant = session.query(Participant).filter(Participant.email==email).first()\n",
    "            if existing_participant:\n",
    "                print(existing_participant.firstname, existing_participant.lastname)\n",
    "                continue\n",
    "        else:\n",
    "            email = ''\n",
    "        new_par = Participant(title=row['name_title'],\n",
    "                         firstname=row['first_name'],\n",
    "                         lastname=row['last_name'],\n",
    "                         email=row['user_email'].strip(),\n",
    "                         faculty=row['faculty'],\n",
    "                         affil=row['university'],\n",
    "                         mobile=row['mobile'],\n",
    "                         delivery_address=row['delivery_address'],\n",
    "                         position_type=row['position_type'])\n",
    "        new_par.roles = role\n",
    "        registered_at = None if pandas.isna(row['user_registered']) else row['user_registered']\n",
    "        if registered_at:\n",
    "            if not isinstance(registered_at, datetime):  # some datetime is not a datetime object\n",
    "                registered_at = datetime.strptime(registered_at, '%Y-%m-%d %H:%M:%S')\n",
    "            registered_at = bnk.localize(registered_at).astimezone(pytz.utc)\n",
    "        new_par.registrations_collection.append(Registration(registered_at=registered_at,\n",
    "                                                             pay_status=False,\n",
    "                                                             payment_required=False))\n",
    "        session.add(new_par)\n",
    "    session.commit()"
   ]
  },
  {
   "cell_type": "code",
   "execution_count": 109,
   "metadata": {},
   "outputs": [],
   "source": [
    "def add_new_speakers_2(role, data):\n",
    "    for item in data.iterrows():\n",
    "        row = item[1]\n",
    "        year = 2018\n",
    "        if pandas.isna(row['email']):\n",
    "            email = row['email'].strip().lower()\n",
    "            existing_participant = session.query(Participant).filter(Participant.email==email).first()\n",
    "            if existing_participant:\n",
    "                print(existing_participant.firstname, existing_participant.lastname)\n",
    "                continue\n",
    "        else:\n",
    "            email = ''\n",
    "        new_par = Participant(firstname=row['firstname'],\n",
    "                         lastname=row['lastname'],\n",
    "                         email=row['email'].strip(),\n",
    "                         faculty=row['faculty'],\n",
    "                         affil=row['university'],\n",
    "                         mobile=row['mobile'],\n",
    "                         position_type=row['position'])\n",
    "        new_par.roles = role\n",
    "        registered_at = None if pandas.isna(row['registered']) else row['registered']\n",
    "        if registered_at:\n",
    "            if not isinstance(registered_at, datetime):  # some datetime is not a datetime object\n",
    "                registered_at = datetime.strptime(registered_at, '%Y-%m-%d %H:%M:%S')\n",
    "            registered_at = bnk.localize(registered_at).astimezone(pytz.utc)\n",
    "        new_par.registrations_collection.append(Registration(registered_at=registered_at,\n",
    "                                                             pay_status=False,\n",
    "                                                             payment_required=False))\n",
    "        session.add(new_par)\n",
    "    session.commit()"
   ]
  },
  {
   "cell_type": "code",
   "execution_count": 110,
   "metadata": {},
   "outputs": [],
   "source": [
    "def add_new_committee_network(role, data):\n",
    "    for item in data.iterrows():\n",
    "        row = item[1]\n",
    "        year = 2018\n",
    "        if not pandas.isna(row['email']):\n",
    "            email = row['email'].strip().lower()\n",
    "            existing_participant = session.query(Participant).filter(Participant.email==email).first()\n",
    "            if existing_participant:\n",
    "                print(existing_participant.firstname, existing_participant.lastname)\n",
    "                continue\n",
    "        else:\n",
    "            email = ''\n",
    "        \n",
    "        new_par = Participant(title=row['title'],\n",
    "                         firstname=row['firstname'],\n",
    "                         lastname=row['lastname'],\n",
    "                         email=email,\n",
    "                         affil=row['affiliation'],\n",
    "                         mobile=row['mobile'])\n",
    "        new_par.roles = role\n",
    "        registered_at = None if pandas.isna(row['registered']) else row['registered']\n",
    "        if registered_at:\n",
    "            if not isinstance(registered_at, datetime):  # some datetime is not a datetime object\n",
    "                registered_at = datetime.strptime(registered_at, '%Y-%m-%d %H:%M:%S')\n",
    "            registered_at = bnk.localize(registered_at).astimezone(pytz.utc)\n",
    "        new_par.registrations_collection.append(Registration(registered_at=registered_at,\n",
    "                                                             pay_status=False,\n",
    "                                                             payment_required=False))\n",
    "        session.add(new_par)\n",
    "    session.commit()"
   ]
  },
  {
   "cell_type": "code",
   "execution_count": 105,
   "metadata": {},
   "outputs": [
    {
     "name": "stdout",
     "output_type": "stream",
     "text": [
      "วิวรรธน์\n"
     ]
    }
   ],
   "source": [
    "participant_data = pandas.read_excel('register 06.11.2018.xlsx', sheet_name='participants')\n",
    "participant_role = session.query(Role).filter(Role.desc=='participant').first()\n",
    "add_new_participant(participant_role, participant_data)"
   ]
  },
  {
   "cell_type": "code",
   "execution_count": 111,
   "metadata": {},
   "outputs": [
    {
     "name": "stdout",
     "output_type": "stream",
     "text": [
      "อภิรดี เจริญนุกูล\n"
     ]
    }
   ],
   "source": [
    "rap_data = pandas.read_excel('register 06.11.2018.xlsx', sheet_name='rapporteurs')\n",
    "rapporteur_role = session.query(Role).filter(Role.desc=='rapporteur').first()\n",
    "add_new_rap(rapporteur_role, rap_data)"
   ]
  },
  {
   "cell_type": "code",
   "execution_count": 112,
   "metadata": {},
   "outputs": [
    {
     "name": "stdout",
     "output_type": "stream",
     "text": [
      "ศุกร์ใจ เจริญสุช\n",
      "ธนชัย พนาพุฒิ\n",
      "วัชราภรณ์ เชี่ยววัฒนา\n",
      "แสงเทียน ธรรมลิขิตกุล\n",
      "พีรนันท์ วิศาลสกุลวงษ์\n",
      "ภาวิดา พุทธิขันธ์\n",
      "บุหงา ตโนภาส\n",
      "รัตนา จารุวรรโณ\n",
      "อังคณา สุเมธสิทธิกุล\n"
     ]
    }
   ],
   "source": [
    "committee_data = pandas.read_excel('register 06.11.2018.xlsx', sheet_name='committee')\n",
    "committee_role = session.query(Role).filter(Role.desc=='committee').first()\n",
    "add_new_committee(committee_role, committee_data)"
   ]
  },
  {
   "cell_type": "code",
   "execution_count": 114,
   "metadata": {},
   "outputs": [
    {
     "name": "stdout",
     "output_type": "stream",
     "text": [
      "รุ่งเพ็ชร สกุลบำรุงศิลป์\n",
      "วนิดา นพพรพันธุ์\n",
      "ธานี กล่อมใจ\n",
      "ขวัญตา บุญวาศ\n",
      "ศิริเกษม ศิริลักษณ์\n",
      "ธนันต์นิภา   ภัคศุขนิธิวัฒน์\n",
      "ดร.ศรีสุดา วงศ์วิเศษกุล\n",
      "อติญาณ์ ศรเกษตริน\n",
      "สุกิจ  พันธุ์พิมานมาศ\n",
      "วรุณยุพา รอยกุลเจริญ\n",
      "อรทิพา   ส่องศิริ\n",
      "นวลใย พิศชาติ\n",
      "เสาวมาศ คุณล้าน  เถื่อนนาดี\n",
      "รัชนี สรรเสริญ\n",
      "สุชาดา นิ้มวัฒนากุล\n",
      "สมใจ ลือวิเศษไพบูลย์\n",
      "วิภา เพ็งเสงี่ยม\n",
      "วรรณี ตปนียากร\n",
      "ปานเทพ รัตนากร\n",
      "ธวัชชัย ศักดิ์\n",
      "มัณฑนา เหมชะญาติ\n",
      "ยุวดี รอดจากภัย\n",
      "ณิชารีย์ ใจคำวัง\n",
      "ประยุทธ ภูวรัตนาวิวิธ\n",
      "นิมัศตูรา แว\n",
      "อุทัยวรรณ กาญจนกามล\n",
      "กฤช จารุชาต\n",
      "วารี กังใจ\n",
      "พิมพ์เพชร สุขุมาลไพบูลย์\n",
      "ประไพพิศ สิงหเสม\n",
      "ชนัตถา พลอยเลื่อมแสง\n",
      "ปัทมา ผ่องศิริ\n",
      "ธนะเศรษฐ์ ง้าวหิรัญพัฒน์\n",
      "พิพัฒน์  แก้วอุดม\n",
      "พรเจริญ บัวพุ่ม\n",
      "จิราพร วัฒนศรีสิน\n",
      "ชลาลัย หาญเจนลักษณ์\n",
      "นงเยาว์ สมพิทยานุรักษ์\n",
      "วรรณภา ประทุมโทน\n",
      "วิภาวรรณ  ชะอุ่ม เพ็ญสุขสันต์\n",
      "นงเยาว์ สมพิทยานุรักษ์\n",
      "การุณ เวโรจน์\n",
      "นิภารัตน์ จันทร์แสงรัตน์\n",
      "รุ่งโรจน์ ธนาวงษ์นุเวช\n",
      "ศันสณี รัชชกูล\n",
      "สุโรจน์ ศุภเวคิน\n",
      "อมร ลีลารัศมี\n",
      "นภา วงษ์ศรี\n",
      "สราพร มัทยาท\n",
      "สุทธิพงศ์ วัชรสินธุ\n",
      "สุวิมล ล้วนเส้ง\n",
      "นภาดล สีหพันธุ์\n",
      "วิชิต โนสูงเนิน\n",
      "ประยุทธ ภูวรัตนาวิวิธ\n",
      "บุญรอด ดอนประเพ็ง\n",
      "อัจฉรา  วงศ์แสงจันทร์\n",
      "วรานันท์ บัวจีบ\n",
      "พวงผกา ตันกิจจานนท์\n",
      "ถิรวัฒน์ วรรณตุง\n",
      "สุวัฒนา จุฬาวัฒนทล\n",
      "วณิช วรรณพฤษณ์\n",
      "ปภาวดี คล่องพิทยาพงษ์\n",
      "จารุวรรณ รังสิยานนท์\n",
      "จิโรจน์ สูรพันธุ์\n",
      "จุราพร  พงศ์เวชรักษ์\n",
      "ชุตินันท์ ประสิทธิ์ภูริปรีชา\n",
      "จิราภรณ์  เตชะอุดมเดช\n",
      "ทัศนีย์   ศิลาวรรณ\n",
      "รัชนี ครองระวะ\n",
      "นำพิชญ์ ธรรมหิเวศน์\n",
      "กิตติศักดิ์ หลวงพันเทา\n",
      "เบญจวรรณ คล้ายทับทิม\n",
      "สมชาย ธรรมสารโสภณ\n",
      "ทิวากรณ์   ราชูธร\n",
      "กัลยาณี อาสนศักดิ์\n",
      "ทัศนีย์ เกริกกุลธร\n",
      "ประกริต รัชวัตร์\n",
      "นุชนาถ วิชิต\n",
      "รัชนี สรรเสริญ\n",
      "Khuanwalai Maklon\n",
      "ศศิมา  กุสุมา ณ อยุธยา\n",
      "อารยะ ไข่มุกด์\n",
      "นพดล วรอุไร\n",
      "จิตรลดา อุทัยพิบูลย์\n",
      "เฉลิมขวัญ  ภู่วรวรรณ\n",
      "ผกาทิพย์ สิงห์คำ\n",
      "วิภพ สุทธนะ\n",
      "จำรัส สาระขวัญ\n",
      "ชุติมา มาลัย\n",
      "วราภรณ์   ชัยวัฒน์\n",
      "นิรันดร์  พิทักวัชระ\n",
      "มารุตพงศ์  ปัญญา\n",
      "อัจฉรา แก้วน้อย\n",
      "ทัศนีย์ ศิลาวรรณ\n",
      "ศิริเพ็ญ ต่ออุดม\n",
      "นิธิตา ปิยอมรพันธุ์\n",
      "วรรณิศา  คุ้มบ้าน\n",
      "ศุภโชค ก่อวิวัฒน์สกุล\n",
      "นภัทร แผ่ผล\n",
      "สุภาณี ชวนเชย\n",
      "รุ้งเพชร สงวนพงษ์\n",
      "มัณฑนา เหมชะญาติ\n",
      "หทัยชนก บัวเจริญ\n",
      "บุญรัตน์ วราชิต\n",
      "ดวงพร หุ่นตระกูล\n",
      "วิรัตน์ นิวัฒนนันท์\n",
      "จรวยพร ศรีศศลักษณ์\n",
      "ทัศนา บุญทอง\n",
      "ณรงค์ ลุมพิกานนท์\n",
      "ปิยวรรณ ลิ้มปัญญาเลิศ\n",
      "อรทิพา   ส่องศิริ\n",
      "ไพศาล กังวลกิจ\n",
      "สุปาณี เสนาดิสัย\n",
      "นิตยา ศรีสุข\n",
      "เทพลักษ์ ศิริธนะวุฒิชัย\n",
      "จันทร์เพ็ญ  วิวัฒน์\n",
      "โสภณ เมฆธน\n",
      "เรณู อาจสาลี\n",
      "พรรณี ปึงสุวรรณ\n",
      "ปภาวรินท์ ตีระจินดา\n",
      "ปองกานต์ กาญจนวัฒนา\n",
      "ปฐมพร   ศิรประภาศิริ\n",
      "ณัฏฐกวี บุญวิจิตร\n",
      "โมทน์ ฝอยทอง\n",
      "วรชาติ เฉิดชมจันทร์\n",
      "วรานุรินทร์ ยิสารคุณ\n",
      "สุภาเพ็ญ ปาณะวัฒนพิสุทธิ์\n",
      "สุทธิรัตน์ พิมพ์พงศ์\n",
      "สารีฝ๊ะ ชุมรักษา\n",
      "รุ่งเพ็ชร สกุลบำรุงศิลป์\n",
      "ประดิษฐ์   ปฐวีศรีสุธา\n",
      "Mongkol Na Songkhla\n",
      "นิคม มะลิทอง\n",
      "ประดิษฐ์   ปฐวีศรีสุธา\n",
      "ทวีรัตน์ ทับทิมทอง\n"
     ]
    }
   ],
   "source": [
    "invitee_data = pandas.read_excel('invitee_04112018.xlsx')\n",
    "invitee_role = session.query(Role).filter(Role.desc=='invitee').first()\n",
    "add_new_invitee(invitee_role, invitee_data)"
   ]
  },
  {
   "cell_type": "code",
   "execution_count": 115,
   "metadata": {},
   "outputs": [],
   "source": [
    "speakers_data = pandas.read_excel('register 06.11.2018.xlsx', 'speakers')\n",
    "speaker_role = session.query(Role).filter(Role.desc=='speaker').first()\n",
    "add_new_speakers(speaker_role, speakers_data)"
   ]
  },
  {
   "cell_type": "code",
   "execution_count": 116,
   "metadata": {},
   "outputs": [],
   "source": [
    "speakers_data_2 = pandas.read_excel('register 06.11.2018.xlsx', 'Sheet1')\n",
    "add_new_speakers_2(speaker_role, speakers_data_2)"
   ]
  },
  {
   "cell_type": "code",
   "execution_count": 117,
   "metadata": {},
   "outputs": [
    {
     "name": "stdout",
     "output_type": "stream",
     "text": [
      "siriwat Tiptaradol\n"
     ]
    }
   ],
   "source": [
    "network_data = pandas.read_excel('register 06.11.2018.xlsx', sheet_name='network')\n",
    "committee_role = session.query(Role).filter(Role.desc=='committee').first()\n",
    "add_new_committee_network(committee_role, network_data)"
   ]
  },
  {
   "cell_type": "code",
   "execution_count": 118,
   "metadata": {},
   "outputs": [],
   "source": [
    "notitles = []\n",
    "for participant in session.query(Participant):\n",
    "    if participant.title == 'NaN':\n",
    "        notitles.append(participant)"
   ]
  },
  {
   "cell_type": "code",
   "execution_count": 119,
   "metadata": {},
   "outputs": [
    {
     "name": "stdout",
     "output_type": "stream",
     "text": [
      "คุณ ศิริตรี สุทธจิตต์\n",
      "คุณ วัชราภรณ์ เชี่ยววัฒนา\n",
      "คุณ กฤษณา  ศิริวิบุลยกิติ\n",
      "คุณ พัชริี  ดำรงสุนทรชัย\n",
      "คุณ จารุภา จิรโสภณ\n"
     ]
    }
   ],
   "source": [
    "for p in notitles:\n",
    "    p.title='คุณ'\n",
    "    print(p.title, p.firstname, p.lastname)"
   ]
  },
  {
   "cell_type": "code",
   "execution_count": 79,
   "metadata": {},
   "outputs": [],
   "source": [
    "for p in notitles:\n",
    "    session.add(p)\n",
    "session.commit()"
   ]
  },
  {
   "cell_type": "code",
   "execution_count": 80,
   "metadata": {},
   "outputs": [
    {
     "ename": "ValueError",
     "evalue": "not enough values to unpack (expected 2, got 1)",
     "output_type": "error",
     "traceback": [
      "\u001b[0;31m---------------------------------------------------------------------------\u001b[0m",
      "\u001b[0;31mValueError\u001b[0m                                Traceback (most recent call last)",
      "\u001b[0;32m<ipython-input-80-ed2a45edf242>\u001b[0m in \u001b[0;36m<module>\u001b[0;34m\u001b[0m\n\u001b[1;32m      1\u001b[0m \u001b[0mp\u001b[0m \u001b[0;34m=\u001b[0m \u001b[0msession\u001b[0m\u001b[0;34m.\u001b[0m\u001b[0mquery\u001b[0m\u001b[0;34m(\u001b[0m\u001b[0mParticipant\u001b[0m\u001b[0;34m)\u001b[0m\u001b[0;34m.\u001b[0m\u001b[0mfilter\u001b[0m\u001b[0;34m(\u001b[0m\u001b[0mParticipant\u001b[0m\u001b[0;34m.\u001b[0m\u001b[0mid\u001b[0m\u001b[0;34m==\u001b[0m\u001b[0;36m546\u001b[0m\u001b[0;34m)\u001b[0m\u001b[0;34m.\u001b[0m\u001b[0mfirst\u001b[0m\u001b[0;34m(\u001b[0m\u001b[0;34m)\u001b[0m\u001b[0;34m\u001b[0m\u001b[0m\n\u001b[0;32m----> 2\u001b[0;31m \u001b[0memail1\u001b[0m\u001b[0;34m,\u001b[0m \u001b[0memail2\u001b[0m \u001b[0;34m=\u001b[0m \u001b[0mp\u001b[0m\u001b[0;34m.\u001b[0m\u001b[0memail\u001b[0m\u001b[0;34m.\u001b[0m\u001b[0msplit\u001b[0m\u001b[0;34m(\u001b[0m\u001b[0;34m', \\n'\u001b[0m\u001b[0;34m)\u001b[0m\u001b[0;34m\u001b[0m\u001b[0m\n\u001b[0m\u001b[1;32m      3\u001b[0m \u001b[0mp\u001b[0m\u001b[0;34m.\u001b[0m\u001b[0memail\u001b[0m \u001b[0;34m=\u001b[0m \u001b[0memail2\u001b[0m\u001b[0;34m\u001b[0m\u001b[0m\n\u001b[1;32m      4\u001b[0m \u001b[0msession\u001b[0m\u001b[0;34m.\u001b[0m\u001b[0madd\u001b[0m\u001b[0;34m(\u001b[0m\u001b[0mp\u001b[0m\u001b[0;34m)\u001b[0m\u001b[0;34m\u001b[0m\u001b[0m\n\u001b[1;32m      5\u001b[0m \u001b[0msession\u001b[0m\u001b[0;34m.\u001b[0m\u001b[0mcommit\u001b[0m\u001b[0;34m(\u001b[0m\u001b[0;34m)\u001b[0m\u001b[0;34m\u001b[0m\u001b[0m\n",
      "\u001b[0;31mValueError\u001b[0m: not enough values to unpack (expected 2, got 1)"
     ]
    }
   ],
   "source": [
    "p = session.query(Participant).filter(Participant.id==546).first()\n",
    "email1, email2 = p.email.split(', \\n')\n",
    "p.email = email2\n",
    "session.add(p)\n",
    "session.commit()"
   ]
  },
  {
   "cell_type": "code",
   "execution_count": 81,
   "metadata": {},
   "outputs": [],
   "source": [
    "p = session.query(Participant).filter(Participant.lastname=='ดำรงสุนทรชัย').first()"
   ]
  },
  {
   "cell_type": "code",
   "execution_count": 82,
   "metadata": {},
   "outputs": [],
   "source": [
    "p.firstname = 'พัชรี'\n",
    "session.add(p)\n",
    "session.commit()"
   ]
  },
  {
   "cell_type": "code",
   "execution_count": 83,
   "metadata": {},
   "outputs": [
    {
     "data": {
      "text/plain": [
       "'พัชรี'"
      ]
     },
     "execution_count": 83,
     "metadata": {},
     "output_type": "execute_result"
    }
   ],
   "source": [
    "p.firstname"
   ]
  },
  {
   "cell_type": "code",
   "execution_count": 84,
   "metadata": {},
   "outputs": [],
   "source": [
    "p.email = 'bow_bow999@hotmail.com'\n",
    "session.add(p)\n",
    "session.commit()"
   ]
  },
  {
   "cell_type": "code",
   "execution_count": 88,
   "metadata": {},
   "outputs": [
    {
     "data": {
      "text/plain": [
       "datetime.datetime(2018, 11, 11, 20, 13, 37, 16352, tzinfo=<UTC>)"
      ]
     },
     "execution_count": 88,
     "metadata": {},
     "output_type": "execute_result"
    }
   ],
   "source": [
    "pytz.utc.localize(datetime.now()).astimezone(pytz.utc)"
   ]
  },
  {
   "cell_type": "code",
   "execution_count": null,
   "metadata": {},
   "outputs": [],
   "source": []
  }
 ],
 "metadata": {
  "kernelspec": {
   "display_name": "Python 3",
   "language": "python",
   "name": "python3"
  },
  "language_info": {
   "codemirror_mode": {
    "name": "ipython",
    "version": 3
   },
   "file_extension": ".py",
   "mimetype": "text/x-python",
   "name": "python",
   "nbconvert_exporter": "python",
   "pygments_lexer": "ipython3",
   "version": "3.7.0"
  }
 },
 "nbformat": 4,
 "nbformat_minor": 2
}
