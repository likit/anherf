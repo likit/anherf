{
 "cells": [
  {
   "cell_type": "code",
   "execution_count": 1,
   "metadata": {},
   "outputs": [],
   "source": [
    "import pandas, sqlalchemy\n",
    "from datetime import datetime"
   ]
  },
  {
   "cell_type": "code",
   "execution_count": 2,
   "metadata": {},
   "outputs": [],
   "source": [
    "from sqlalchemy.ext.automap import automap_base\n",
    "from sqlalchemy import create_engine\n",
    "from sqlalchemy.orm import Session"
   ]
  },
  {
   "cell_type": "code",
   "execution_count": 21,
   "metadata": {},
   "outputs": [],
   "source": [
    "Base = automap_base()"
   ]
  },
  {
   "cell_type": "code",
   "execution_count": 22,
   "metadata": {},
   "outputs": [],
   "source": [
    "engine = create_engine('postgres+psycopg2://postgres@localhost:5436/anherf')"
   ]
  },
  {
   "cell_type": "code",
   "execution_count": 23,
   "metadata": {},
   "outputs": [],
   "source": [
    "Base.prepare(engine, reflect=True)"
   ]
  },
  {
   "cell_type": "code",
   "execution_count": 24,
   "metadata": {},
   "outputs": [
    {
     "data": {
      "text/plain": [
       "['alembic_version', 'registrations', 'participants', 'roles']"
      ]
     },
     "execution_count": 24,
     "metadata": {},
     "output_type": "execute_result"
    }
   ],
   "source": [
    "Base.classes.keys()"
   ]
  },
  {
   "cell_type": "code",
   "execution_count": 25,
   "metadata": {},
   "outputs": [],
   "source": [
    "session = Session(engine)"
   ]
  },
  {
   "cell_type": "code",
   "execution_count": 20,
   "metadata": {},
   "outputs": [],
   "source": [
    "speaker_role = Roles(desc='speaker')\n",
    "guest_role = Roles(desc='guest')\n",
    "vip_role = Roles(desc='vip')\n",
    "participant_role = Roles(desc='participant')"
   ]
  },
  {
   "cell_type": "code",
   "execution_count": 21,
   "metadata": {},
   "outputs": [],
   "source": [
    "session.add(speaker_role)\n",
    "session.add(guest_role)\n",
    "session.add(vip_role)\n",
    "session.add(participant_role)\n",
    "session.commit()"
   ]
  },
  {
   "cell_type": "code",
   "execution_count": 26,
   "metadata": {},
   "outputs": [],
   "source": [
    "Roles = Base.classes['roles']"
   ]
  },
  {
   "cell_type": "code",
   "execution_count": 27,
   "metadata": {},
   "outputs": [],
   "source": [
    "Participant = Base.classes['participants']"
   ]
  },
  {
   "cell_type": "code",
   "execution_count": 28,
   "metadata": {},
   "outputs": [],
   "source": [
    "Registration = Base.classes['registrations']"
   ]
  },
  {
   "cell_type": "code",
   "execution_count": 29,
   "metadata": {},
   "outputs": [],
   "source": [
    "def add_new_participant(role, data):\n",
    "    for item in data.iterrows():\n",
    "        row = item[1]\n",
    "        existing_par = session.query(Participant).filter(Participant.id==row['ID']).first()\n",
    "        if existing_par:\n",
    "            continue\n",
    "        new_par = Participant(old_id=row['ID'],\n",
    "                        title=row['name_title'],\n",
    "                         firstname=row['first_name'],\n",
    "                         lastname=row['last_name'],\n",
    "                         email=row['user_email'],\n",
    "                         faculty=row['faculty'],\n",
    "                         affil=row['university'],\n",
    "                         mobile=row['mobile'],\n",
    "                         delivery_address=row['delivery_address'],\n",
    "                         position_type=row['position_type'],\n",
    "                         role_id=role.id)\n",
    "        registered_at = datetime.strptime(row['user_registered'], '%Y-%m-%d %H:%M:%S')\n",
    "        new_par.registrations_collection.append(Registration(registered_at=registered_at,\n",
    "                                                    pay_status=False, payment_required=False))\n",
    "        session.add(new_par)\n",
    "    session.commit()"
   ]
  },
  {
   "cell_type": "code",
   "execution_count": 30,
   "metadata": {},
   "outputs": [],
   "source": [
    "committee_data = pandas.read_excel('register 04.10.2018.xlsx', sheet_name='committee')"
   ]
  },
  {
   "cell_type": "code",
   "execution_count": 31,
   "metadata": {},
   "outputs": [],
   "source": [
    "speaker_data = pandas.read_excel('register 04.10.2018.xlsx', sheet_name='speaker')"
   ]
  },
  {
   "cell_type": "code",
   "execution_count": 37,
   "metadata": {},
   "outputs": [],
   "source": [
    "participant_data = pandas.read_excel('register 04.10.2018.xlsx', sheet_name='participant')"
   ]
  },
  {
   "cell_type": "code",
   "execution_count": 33,
   "metadata": {},
   "outputs": [],
   "source": [
    "speaker_role = session.query(Roles).filter(Roles.desc=='speaker').first()\n",
    "add_new_participant(speaker_role, speaker_data)"
   ]
  },
  {
   "cell_type": "code",
   "execution_count": 35,
   "metadata": {},
   "outputs": [],
   "source": [
    "committee_role = session.query(Roles).filter(Roles.desc=='committee').first()\n",
    "add_new_participant(committee_role, committee_data)"
   ]
  },
  {
   "cell_type": "code",
   "execution_count": 38,
   "metadata": {},
   "outputs": [],
   "source": [
    "participant_role = session.query(Roles).filter(Roles.desc=='participant').first()\n",
    "add_new_participant(participant_role, participant_data)"
   ]
  },
  {
   "cell_type": "code",
   "execution_count": null,
   "metadata": {},
   "outputs": [],
   "source": []
  }
 ],
 "metadata": {
  "kernelspec": {
   "display_name": "Python 3",
   "language": "python",
   "name": "python3"
  },
  "language_info": {
   "codemirror_mode": {
    "name": "ipython",
    "version": 3
   },
   "file_extension": ".py",
   "mimetype": "text/x-python",
   "name": "python",
   "nbconvert_exporter": "python",
   "pygments_lexer": "ipython3",
   "version": "3.7.0"
  }
 },
 "nbformat": 4,
 "nbformat_minor": 2
}
