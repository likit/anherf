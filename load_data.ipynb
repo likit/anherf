{
 "cells": [
  {
   "cell_type": "code",
   "execution_count": 1,
   "metadata": {},
   "outputs": [],
   "source": [
    "import pandas, sqlalchemy\n",
    "from datetime import datetime"
   ]
  },
  {
   "cell_type": "code",
   "execution_count": 2,
   "metadata": {},
   "outputs": [],
   "source": [
    "from sqlalchemy.ext.automap import automap_base\n",
    "from sqlalchemy import create_engine\n",
    "from sqlalchemy.orm import Session"
   ]
  },
  {
   "cell_type": "code",
   "execution_count": 3,
   "metadata": {},
   "outputs": [],
   "source": [
    "Base = automap_base()"
   ]
  },
  {
   "cell_type": "code",
   "execution_count": 4,
   "metadata": {},
   "outputs": [
    {
     "name": "stderr",
     "output_type": "stream",
     "text": [
      "/Users/likit/.virtualenvs/anherf/lib/python3.7/site-packages/psycopg2/__init__.py:144: UserWarning: The psycopg2 wheel package will be renamed from release 2.8; in order to keep installing from binary please use \"pip install psycopg2-binary\" instead. For details see: <http://initd.org/psycopg/docs/install.html#binary-install-from-pypi>.\n",
      "  \"\"\")\n"
     ]
    }
   ],
   "source": [
    "engine = create_engine('postgres+psycopg2://postgres@localhost:5436/anhperf_dev')"
   ]
  },
  {
   "cell_type": "code",
   "execution_count": 5,
   "metadata": {},
   "outputs": [],
   "source": [
    "Base.prepare(engine, reflect=True)"
   ]
  },
  {
   "cell_type": "code",
   "execution_count": 6,
   "metadata": {},
   "outputs": [
    {
     "data": {
      "text/plain": [
       "['alembic_version', 'roles', 'participants', 'registrations', 'checkins']"
      ]
     },
     "execution_count": 6,
     "metadata": {},
     "output_type": "execute_result"
    }
   ],
   "source": [
    "Base.classes.keys()"
   ]
  },
  {
   "cell_type": "code",
   "execution_count": 7,
   "metadata": {},
   "outputs": [],
   "source": [
    "session = Session(engine)"
   ]
  },
  {
   "cell_type": "code",
   "execution_count": 8,
   "metadata": {},
   "outputs": [],
   "source": [
    "Role = Base.classes['roles']"
   ]
  },
  {
   "cell_type": "code",
   "execution_count": 9,
   "metadata": {},
   "outputs": [],
   "source": [
    "Participant = Base.classes['participants']"
   ]
  },
  {
   "cell_type": "code",
   "execution_count": 10,
   "metadata": {},
   "outputs": [],
   "source": [
    "Registration = Base.classes['registrations']"
   ]
  },
  {
   "cell_type": "code",
   "execution_count": 11,
   "metadata": {},
   "outputs": [],
   "source": [
    "speaker_role = Role(desc='speaker')\n",
    "guest_role = Role(desc='guest')\n",
    "vip_role = Role(desc='vip')\n",
    "participant_role = Role(desc='participant')\n",
    "invitee_role = Role(desc='invitee')"
   ]
  },
  {
   "cell_type": "code",
   "execution_count": 12,
   "metadata": {},
   "outputs": [],
   "source": [
    "committee_role = Role(desc='committee')\n",
    "session.add(committee_role)"
   ]
  },
  {
   "cell_type": "code",
   "execution_count": 13,
   "metadata": {},
   "outputs": [],
   "source": [
    "session.add(Role(desc='rapporteur'))"
   ]
  },
  {
   "cell_type": "code",
   "execution_count": 14,
   "metadata": {},
   "outputs": [],
   "source": [
    "session.add(speaker_role)\n",
    "session.add(guest_role)\n",
    "session.add(vip_role)\n",
    "session.add(participant_role)\n",
    "session.add(invitee_role)\n",
    "session.commit()"
   ]
  },
  {
   "cell_type": "code",
   "execution_count": 15,
   "metadata": {},
   "outputs": [],
   "source": [
    "def add_new_participant(role, data):\n",
    "    for item in data.iterrows():\n",
    "        row = item[1]\n",
    "        if not pandas.isna(row['user_email']):\n",
    "            email = row['user_email'].strip().lower()\n",
    "            existing_participant = session.query(Participant).filter(Participant.email==email).first()\n",
    "            if existing_participant:\n",
    "                print(existing_participant.firstname)\n",
    "                continue\n",
    "        else:\n",
    "            email = ''\n",
    "        new_par = Participant(title=row['name_title'],\n",
    "                         firstname=row['first_name'],\n",
    "                         lastname=row['last_name'],\n",
    "                         email=email,\n",
    "                         faculty=row['faculty'],\n",
    "                         affil=row['university'],\n",
    "                         mobile=row['mobile'],\n",
    "                         delivery_address=row['delivery_address'],\n",
    "                         position_type=row['position_type'],\n",
    "                        )\n",
    "        new_par.roles = role # reflection automatically add s to the role attribute\n",
    "        registered_at = None if pandas.isna(row['user_registered']) else row['user_registered']\n",
    "        pay_status = not pandas.isna(row['paid_at'])\n",
    "        new_par.registrations_collection.append(Registration(\n",
    "                                                    registered_at=registered_at,\n",
    "                                                    pay_status=pay_status,\n",
    "                                                    payment_required=True)\n",
    "                                               )\n",
    "        session.add(new_par)\n",
    "    session.commit()"
   ]
  },
  {
   "cell_type": "code",
   "execution_count": 16,
   "metadata": {},
   "outputs": [],
   "source": [
    "def add_new_committee(role, data):\n",
    "    for item in data.iterrows():\n",
    "        row = item[1]\n",
    "        year = 2018\n",
    "        if not pandas.isna(row['user_email']):\n",
    "            email = row['user_email'].strip().lower()\n",
    "            existing_participant = session.query(Participant).filter(Participant.email==email).first()\n",
    "            if existing_participant:\n",
    "                print(existing_participant.firstname, existing_participant.lastname)\n",
    "                continue\n",
    "        else:\n",
    "            email = ''\n",
    "        new_par = Participant(title=row['name_title'],\n",
    "                         firstname=row['first_name'],\n",
    "                         lastname=row['last_name'],\n",
    "                         email=email,\n",
    "                         faculty=row['faculty'],\n",
    "                         affil=row['university'],\n",
    "                         mobile=row['mobile'],\n",
    "                         delivery_address=row['delivery_address'],\n",
    "                         position_type=row['position_type'])\n",
    "        new_par.roles = role\n",
    "        registered_at = None if pandas.isna(row['user_registered']) else row['user_registered']\n",
    "        new_par.registrations_collection.append(Registration(registered_at=registered_at,\n",
    "                                                             pay_status=False,\n",
    "                                                             payment_required=False))\n",
    "        session.add(new_par)\n",
    "    session.commit()"
   ]
  },
  {
   "cell_type": "code",
   "execution_count": 17,
   "metadata": {},
   "outputs": [],
   "source": [
    "def add_new_invitee(role, data):\n",
    "    for idx,row in data.iterrows():\n",
    "        year = 2018\n",
    "        #regcode = '{}{:05}'.format(year, row['ID'])\n",
    "        if not pandas.isna(row['email']):\n",
    "            email = row['email'].strip().lower()\n",
    "            existing_participant = session.query(Participant).filter(Participant.email==email).first()\n",
    "            if existing_participant:\n",
    "                print(existing_participant.firstname, existing_participant.lastname)\n",
    "                continue\n",
    "        else:\n",
    "            email = ''\n",
    "        new_par = Participant(old_id=None,\n",
    "                        title=row['title'],\n",
    "                         firstname=row['firstname'],\n",
    "                         lastname=row['lastname'],\n",
    "                         email=email,\n",
    "                         faculty=row['faculty'],\n",
    "                         affil=row['affiliation'],\n",
    "                         mobile=row['tel'],\n",
    "                         delivery_address=row['address'],\n",
    "                         position_type=row['position']\n",
    "                        )\n",
    "        new_par.roles = role\n",
    "        registered_at = row['datetime']\n",
    "        new_par.registrations_collection.append(Registration(registered_at=registered_at,\n",
    "                                                             pay_status=False,\n",
    "                                                             payment_required=False))\n",
    "        session.add(new_par)\n",
    "    session.commit()"
   ]
  },
  {
   "cell_type": "code",
   "execution_count": 18,
   "metadata": {},
   "outputs": [],
   "source": [
    "def add_new_rap(role, data):\n",
    "    for idx,row in data.iterrows():\n",
    "        year = 2018\n",
    "        if not pandas.isna(row['email']):\n",
    "            email = row['email'].strip().lower()\n",
    "            existing_participant = session.query(Participant).filter(Participant.email==email).first()\n",
    "            if existing_participant:\n",
    "                print(existing_participant.firstname, existing_participant.lastname)\n",
    "                continue\n",
    "        else:\n",
    "            email = ''\n",
    "        #regcode = '{}{:05}'.format(year, row['ID'])\n",
    "        new_par = Participant(old_id=None,\n",
    "                        title=row['title'],\n",
    "                         firstname=row['firstname'],\n",
    "                         lastname=row['lastname'],\n",
    "                         email=email,\n",
    "                         affil=row['university'],\n",
    "                         mobile=row['mobile'],\n",
    "                         position_type=row['position']\n",
    "                        )\n",
    "        new_par.roles = role\n",
    "        registered_at = row['registered']\n",
    "        new_par.registrations_collection.append(Registration(registered_at=registered_at,\n",
    "                                                             pay_status=False,\n",
    "                                                             payment_required=False))\n",
    "        session.add(new_par)\n",
    "    session.commit()"
   ]
  },
  {
   "cell_type": "code",
   "execution_count": 19,
   "metadata": {},
   "outputs": [],
   "source": [
    "def add_new_speakers(role, data):\n",
    "    for item in data.iterrows():\n",
    "        row = item[1]\n",
    "        year = 2018\n",
    "        if pandas.isna(row['user_email']):\n",
    "            email = row['user_email'].strip().lower()\n",
    "            existing_participant = session.query(Participant).filter(Participant.email==email).first()\n",
    "            if existing_participant:\n",
    "                print(existing_participant.firstname, existing_participant.lastname)\n",
    "                continue\n",
    "        else:\n",
    "            email = ''\n",
    "        new_par = Participant(title=row['name_title'],\n",
    "                         firstname=row['first_name'],\n",
    "                         lastname=row['last_name'],\n",
    "                         email=row['user_email'].strip(),\n",
    "                         faculty=row['faculty'],\n",
    "                         affil=row['university'],\n",
    "                         mobile=row['mobile'],\n",
    "                         delivery_address=row['delivery_address'],\n",
    "                         position_type=row['position_type'])\n",
    "        new_par.roles = role\n",
    "        registered_at = None if pandas.isna(row['user_registered']) else row['user_registered']\n",
    "        new_par.registrations_collection.append(Registration(registered_at=registered_at,\n",
    "                                                             pay_status=False,\n",
    "                                                             payment_required=False))\n",
    "        session.add(new_par)\n",
    "    session.commit()"
   ]
  },
  {
   "cell_type": "code",
   "execution_count": 20,
   "metadata": {},
   "outputs": [],
   "source": [
    "def add_new_speakers_2(role, data):\n",
    "    for item in data.iterrows():\n",
    "        row = item[1]\n",
    "        year = 2018\n",
    "        if pandas.isna(row['email']):\n",
    "            email = row['email'].strip().lower()\n",
    "            existing_participant = session.query(Participant).filter(Participant.email==email).first()\n",
    "            if existing_participant:\n",
    "                print(existing_participant.firstname, existing_participant.lastname)\n",
    "                continue\n",
    "        else:\n",
    "            email = ''\n",
    "        new_par = Participant(firstname=row['firstname'],\n",
    "                         lastname=row['lastname'],\n",
    "                         email=row['email'].strip(),\n",
    "                         faculty=row['faculty'],\n",
    "                         affil=row['university'],\n",
    "                         mobile=row['mobile'],\n",
    "                         position_type=row['position'])\n",
    "        new_par.roles = role\n",
    "        registered_at = None if pandas.isna(row['registered']) else row['registered']\n",
    "        new_par.registrations_collection.append(Registration(registered_at=registered_at,\n",
    "                                                             pay_status=False,\n",
    "                                                             payment_required=False))\n",
    "        session.add(new_par)\n",
    "    session.commit()"
   ]
  },
  {
   "cell_type": "code",
   "execution_count": 21,
   "metadata": {},
   "outputs": [],
   "source": [
    "def add_new_committee_network(role, data):\n",
    "    for item in data.iterrows():\n",
    "        row = item[1]\n",
    "        year = 2018\n",
    "        if not pandas.isna(row['email']):\n",
    "            email = row['email'].strip().lower()\n",
    "            existing_participant = session.query(Participant).filter(Participant.email==email).first()\n",
    "            if existing_participant:\n",
    "                print(existing_participant.firstname, existing_participant.lastname)\n",
    "                continue\n",
    "        else:\n",
    "            email = ''\n",
    "        \n",
    "        new_par = Participant(title=row['title'],\n",
    "                         firstname=row['firstname'],\n",
    "                         lastname=row['lastname'],\n",
    "                         email=email,\n",
    "                         affil=row['affiliation'],\n",
    "                         mobile=row['mobile'])\n",
    "        new_par.roles = role\n",
    "        registered_at = None if pandas.isna(row['registered']) else row['registered']\n",
    "        new_par.registrations_collection.append(Registration(registered_at=registered_at,\n",
    "                                                             pay_status=False,\n",
    "                                                             payment_required=False))\n",
    "        session.add(new_par)\n",
    "    session.commit()"
   ]
  },
  {
   "cell_type": "code",
   "execution_count": 22,
   "metadata": {},
   "outputs": [
    {
     "name": "stdout",
     "output_type": "stream",
     "text": [
      "วิวรรธน์\n"
     ]
    }
   ],
   "source": [
    "participant_data = pandas.read_excel('register 06.11.2018.xlsx', sheet_name='participants')\n",
    "participant_role = session.query(Role).filter(Role.desc=='participant').first()\n",
    "add_new_participant(participant_role, participant_data)"
   ]
  },
  {
   "cell_type": "code",
   "execution_count": 23,
   "metadata": {},
   "outputs": [
    {
     "name": "stdout",
     "output_type": "stream",
     "text": [
      "อภิรดี เจริญนุกูล\n"
     ]
    }
   ],
   "source": [
    "rap_data = pandas.read_excel('register 06.11.2018.xlsx', sheet_name='rapporteurs')\n",
    "rapporteur_role = session.query(Role).filter(Role.desc=='rapporteur').first()\n",
    "add_new_rap(rapporteur_role, rap_data)"
   ]
  },
  {
   "cell_type": "code",
   "execution_count": 24,
   "metadata": {},
   "outputs": [
    {
     "name": "stdout",
     "output_type": "stream",
     "text": [
      "ศุกร์ใจ เจริญสุช\n",
      "ธนชัย พนาพุฒิ\n",
      "วัชราภรณ์ เชี่ยววัฒนา\n",
      "แสงเทียน ธรรมลิขิตกุล\n",
      "พีรนันท์ วิศาลสกุลวงษ์\n",
      "ภาวิดา พุทธิขันธ์\n",
      "บุหงา ตโนภาส\n",
      "รัตนา จารุวรรโณ\n",
      "อังคณา สุเมธสิทธิกุล\n"
     ]
    }
   ],
   "source": [
    "committee_data = pandas.read_excel('register 06.11.2018.xlsx', sheet_name='committee')\n",
    "committee_role = session.query(Role).filter(Role.desc=='committee').first()\n",
    "add_new_committee(committee_role, committee_data)"
   ]
  },
  {
   "cell_type": "code",
   "execution_count": 25,
   "metadata": {},
   "outputs": [
    {
     "name": "stdout",
     "output_type": "stream",
     "text": [
      "ธานี กล่อมใจ\n",
      "ขวัญตา บุญวาศ\n",
      "ดร.ศรีสุดา วงศ์วิเศษกุล\n",
      "วรุณยุพา รอยกุลเจริญ\n",
      "นวลใย พิศชาติ\n",
      "สมใจ ลือวิเศษไพบูลย์\n",
      "พิมพ์เพชร สุขุมาลไพบูลย์\n",
      "ประไพพิศ สิงหเสม\n",
      "จิราพร วัฒนศรีสิน\n",
      "วรรณภา ประทุมโทน\n",
      "นงเยาว์ สมพิทยานุรักษ์\n",
      "สุวิมล ล้วนเส้ง\n",
      "วิชิต โนสูงเนิน\n",
      "ประยุทธ ภูวรัตนาวิวิธ\n",
      "สุวัฒนา จุฬาวัฒนทล\n",
      "ชุตินันท์ ประสิทธิ์ภูริปรีชา\n",
      "นุชนาถ วิชิต\n",
      "รัชนี สรรเสริญ\n",
      "อารยะ ไข่มุกด์\n",
      "มัณฑนา เหมชะญาติ\n",
      "ดวงพร หุ่นตระกูล\n",
      "วิรัตน์ นิวัฒนนันท์\n",
      "อรทิพา   ส่องศิริ\n",
      "นิตยา ศรีสุข\n",
      "เทพลักษ์ ศิริธนะวุฒิชัย\n",
      "สุภาเพ็ญ ปาณะวัฒนพิสุทธิ์\n",
      "ประดิษฐ์   ปฐวีศรีสุธา\n"
     ]
    }
   ],
   "source": [
    "invitee_data = pandas.read_excel('invitee_04112018.xlsx')\n",
    "invitee_role = session.query(Role).filter(Role.desc=='invitee').first()\n",
    "add_new_invitee(invitee_role, invitee_data)"
   ]
  },
  {
   "cell_type": "code",
   "execution_count": 26,
   "metadata": {},
   "outputs": [],
   "source": [
    "speakers_data = pandas.read_excel('register 06.11.2018.xlsx', 'speakers')\n",
    "speaker_role = session.query(Role).filter(Role.desc=='speaker').first()\n",
    "add_new_speakers(speaker_role, speakers_data)"
   ]
  },
  {
   "cell_type": "code",
   "execution_count": 27,
   "metadata": {},
   "outputs": [],
   "source": [
    "speakers_data_2 = pandas.read_excel('register 06.11.2018.xlsx', 'Sheet1')\n",
    "add_new_speakers_2(speaker_role, speakers_data_2)"
   ]
  },
  {
   "cell_type": "code",
   "execution_count": 28,
   "metadata": {},
   "outputs": [
    {
     "name": "stdout",
     "output_type": "stream",
     "text": [
      "siriwat Tiptaradol\n"
     ]
    }
   ],
   "source": [
    "network_data = pandas.read_excel('register 06.11.2018.xlsx', sheet_name='network')\n",
    "committee_role = session.query(Role).filter(Role.desc=='committee').first()\n",
    "add_new_committee_network(committee_role, network_data)"
   ]
  },
  {
   "cell_type": "code",
   "execution_count": 38,
   "metadata": {},
   "outputs": [],
   "source": [
    "notitles = []\n",
    "for participant in session.query(Participant):\n",
    "    if participant.title == 'NaN':\n",
    "        notitles.append(participant)"
   ]
  },
  {
   "cell_type": "code",
   "execution_count": 42,
   "metadata": {},
   "outputs": [
    {
     "name": "stdout",
     "output_type": "stream",
     "text": [
      "คุณ ศิริตรี สุทธจิตต์\n",
      "คุณ วัชราภรณ์ เชี่ยววัฒนา\n",
      "คุณ กฤษณา  ศิริวิบุลยกิติ\n",
      "คุณ พัชริี  ดำรงสุนทรชัย\n",
      "คุณ จารุภา จิรโสภณ\n"
     ]
    }
   ],
   "source": [
    "for p in notitles:\n",
    "    p.title='คุณ'\n",
    "    print(p.title, p.firstname, p.lastname)"
   ]
  },
  {
   "cell_type": "code",
   "execution_count": 44,
   "metadata": {},
   "outputs": [],
   "source": [
    "for p in notitles:\n",
    "    session.add(p)\n",
    "session.commit()"
   ]
  },
  {
   "cell_type": "code",
   "execution_count": 58,
   "metadata": {},
   "outputs": [],
   "source": [
    "p = session.query(Participant).filter(Participant.id==546).first()\n",
    "email1, email2 = p.email.split(', \\n')\n",
    "p.email = email2\n",
    "session.add(p)\n",
    "session.commit()"
   ]
  },
  {
   "cell_type": "code",
   "execution_count": 60,
   "metadata": {},
   "outputs": [],
   "source": [
    "p = session.query(Participant).filter(Participant.lastname=='ดำรงสุนทรชัย').first()"
   ]
  },
  {
   "cell_type": "code",
   "execution_count": 66,
   "metadata": {},
   "outputs": [],
   "source": [
    "p.firstname = 'พัชรี'\n",
    "session.add(p)\n",
    "session.commit()"
   ]
  },
  {
   "cell_type": "code",
   "execution_count": 67,
   "metadata": {},
   "outputs": [
    {
     "data": {
      "text/plain": [
       "'พัชรี'"
      ]
     },
     "execution_count": 67,
     "metadata": {},
     "output_type": "execute_result"
    }
   ],
   "source": [
    "p.firstname"
   ]
  },
  {
   "cell_type": "code",
   "execution_count": 64,
   "metadata": {},
   "outputs": [],
   "source": [
    "p.email = 'bow_bow999@hotmail.com'\n",
    "session.add(p)\n",
    "session.commit()"
   ]
  },
  {
   "cell_type": "code",
   "execution_count": 65,
   "metadata": {},
   "outputs": [
    {
     "data": {
      "text/plain": [
       "205"
      ]
     },
     "execution_count": 65,
     "metadata": {},
     "output_type": "execute_result"
    }
   ],
   "source": [
    "p.id"
   ]
  },
  {
   "cell_type": "code",
   "execution_count": null,
   "metadata": {},
   "outputs": [],
   "source": []
  }
 ],
 "metadata": {
  "kernelspec": {
   "display_name": "Python 3",
   "language": "python",
   "name": "python3"
  },
  "language_info": {
   "codemirror_mode": {
    "name": "ipython",
    "version": 3
   },
   "file_extension": ".py",
   "mimetype": "text/x-python",
   "name": "python",
   "nbconvert_exporter": "python",
   "pygments_lexer": "ipython3",
   "version": "3.7.0"
  }
 },
 "nbformat": 4,
 "nbformat_minor": 2
}
